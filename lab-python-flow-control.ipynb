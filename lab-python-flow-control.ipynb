{
 "cells": [
  {
   "cell_type": "markdown",
   "id": "d3bfc191-8885-42ee-b0a0-bbab867c6f9f",
   "metadata": {
    "tags": []
   },
   "source": [
    "# Lab | Flow Control"
   ]
  },
  {
   "cell_type": "markdown",
   "id": "3851fcd1-cf98-4653-9c89-e003b7ec9400",
   "metadata": {},
   "source": [
    "## Exercise: Managing Customer Orders Optimized\n",
    "\n",
    "In the last lab, you were starting an online store that sells various products. To ensure smooth operations, you developed a program that manages customer orders and inventory.\n",
    "\n",
    "You did so without using flow control. Let's go a step further and improve this code.\n",
    "\n",
    "Follow the steps below to complete the exercise:\n",
    "\n",
    "1. Look at your code from the lab data structures, and improve repeated code with loops.\n",
    "\n",
    "2. Instead of asking the user to input the name of three products that a customer wants to order, do the following:\n",
    "    \n",
    "    a. Prompt the user to enter the name of a product that a customer wants to order.\n",
    "  \n",
    "    b. Add the product name to the \"customer_orders\" set.\n",
    "    \n",
    "    c. Ask the user if they want to add another product (yes/no).\n",
    "    \n",
    "    d. Continue the loop until the user does not want to add another product.\n",
    "\n",
    "3. Instead of updating the inventory by subtracting 1 from the quantity of each product, only do it for  the products that were ordered (those in \"customer_orders\")."
   ]
  },
  {
   "cell_type": "code",
   "execution_count": 1,
   "id": "3e1484b7",
   "metadata": {},
   "outputs": [
    {
     "name": "stdout",
     "output_type": "stream",
     "text": [
      "The inventory is as follows: {'t-shirt': 6, 'mug': 6, 'hat': 6, 'book': 6, 'keychain': 6}\n"
     ]
    }
   ],
   "source": [
    "# 1. Look at your code from the lab data structures, and improve repeated code with loops.\n",
    "\n",
    "products = [\"t-shirt\", \"mug\", \"hat\", \"book\", \"keychain\"]\n",
    "inventory = {}\n",
    "\n",
    "for product in products:\n",
    "    while True:\n",
    "        try:\n",
    "            # Ask the user for the quantity of each product\n",
    "            quantity_products = int(input(f\"Enter the quantity for {product}: \"))\n",
    "            if quantity_products < 0:\n",
    "                print(\"Quantity cannot be negative. Please enter a valid number.\")\n",
    "                continue\n",
    "            inventory[product] = quantity_products \n",
    "            break\n",
    "        except ValueError:\n",
    "            print('Invalid input. Please enter an integer value. ')\n",
    "\n",
    "print(\"The inventory is as follows:\", inventory)"
   ]
  },
  {
   "cell_type": "code",
   "execution_count": 2,
   "id": "c4d8b5c5",
   "metadata": {},
   "outputs": [],
   "source": [
    "customer_orders = set()"
   ]
  },
  {
   "cell_type": "code",
   "execution_count": 4,
   "id": "e5b29b43",
   "metadata": {},
   "outputs": [],
   "source": [
    "# 2. Instead of asking the user to input the name of three products that a customer wants to order, do the following:\n",
    "# a. Prompt the user to enter the name of a product that a customer wants to order.\n",
    "# b. Add the product name to the \"customer_orders\" set.\n",
    "# c. Ask the user if they want to add another product (yes/no).\n",
    "# d. Continue the loop until the user does not want to add another product.\n",
    "\n",
    "\n",
    "while True: \n",
    "    product_order = input(\"Enter the name of the product that you want to order:\").lower()\n",
    "\n",
    "    if product_order in inventory:\n",
    "        customer_orders.add(product_order)\n",
    "    else:\n",
    "        print(\"Sorry, that product is not available in our inventory.\")\n",
    "    \n",
    "    extra_order = input(\"Do you want to order another product? (yes/no):\").lower()\n",
    "    if extra_order == \"no\":\n",
    "        break"
   ]
  },
  {
   "cell_type": "code",
   "execution_count": 5,
   "id": "0bc180d0",
   "metadata": {},
   "outputs": [
    {
     "name": "stdout",
     "output_type": "stream",
     "text": [
      "Your order is as follows: {'book', 'mug'}\n"
     ]
    }
   ],
   "source": [
    "print(\"Your order is as follows:\", customer_orders)"
   ]
  },
  {
   "cell_type": "code",
   "execution_count": 6,
   "id": "45034be9",
   "metadata": {},
   "outputs": [
    {
     "name": "stdout",
     "output_type": "stream",
     "text": [
      "The order is as follows: {'book', 'mug'}\n",
      "The updated inventory is as follows: {'t-shirt': 6, 'mug': 5, 'hat': 6, 'book': 5, 'keychain': 6}\n"
     ]
    }
   ],
   "source": [
    "# 3. Instead of updating the inventory by subtracting 1 from the quantity of each product, only do it for  the products that were ordered (those in \"customer_orders\").\n",
    "\n",
    "for product_order in customer_orders:\n",
    "    if inventory[product_order] >0:\n",
    "        inventory[product_order] -=1\n",
    "    else: \n",
    "        print(f\"Sorry, we are out of stock for this {product_order}.\")\n",
    "\n",
    "# Display the updated inventory \n",
    "\n",
    "print(\"The order is as follows:\", customer_orders)\n",
    "print(\"The updated inventory is as follows:\", inventory)"
   ]
  },
  {
   "cell_type": "code",
   "execution_count": 7,
   "id": "376e8adc",
   "metadata": {},
   "outputs": [
    {
     "name": "stdout",
     "output_type": "stream",
     "text": [
      "Updated inventory:\n",
      "t-shirt: 6\n",
      "mug: 5\n",
      "hat: 6\n",
      "book: 5\n",
      "keychain: 6\n"
     ]
    }
   ],
   "source": [
    "print(\"The updated inventory:\")\n",
    "for item, quantity in inventory.items():\n",
    "    print(f\"{item}: {quantity}\")"
   ]
  }
 ],
 "metadata": {
  "kernelspec": {
   "display_name": "base",
   "language": "python",
   "name": "python3"
  },
  "language_info": {
   "codemirror_mode": {
    "name": "ipython",
    "version": 3
   },
   "file_extension": ".py",
   "mimetype": "text/x-python",
   "name": "python",
   "nbconvert_exporter": "python",
   "pygments_lexer": "ipython3",
   "version": "3.12.7"
  }
 },
 "nbformat": 4,
 "nbformat_minor": 5
}
