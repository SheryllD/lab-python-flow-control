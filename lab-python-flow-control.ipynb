{
 "cells": [
  {
   "cell_type": "markdown",
   "id": "d3bfc191-8885-42ee-b0a0-bbab867c6f9f",
   "metadata": {
    "tags": []
   },
   "source": [
    "# Lab | Flow Control"
   ]
  },
  {
   "cell_type": "markdown",
   "id": "3851fcd1-cf98-4653-9c89-e003b7ec9400",
   "metadata": {},
   "source": [
    "## Exercise: Managing Customer Orders Optimized\n",
    "\n",
    "In the last lab, you were starting an online store that sells various products. To ensure smooth operations, you developed a program that manages customer orders and inventory.\n",
    "\n",
    "You did so without using flow control. Let's go a step further and improve this code.\n",
    "\n",
    "Follow the steps below to complete the exercise:\n",
    "\n",
    "1. Look at your code from the lab data structures, and improve repeated code with loops.\n",
    "\n",
    "2. Instead of asking the user to input the name of three products that a customer wants to order, do the following:\n",
    "    \n",
    "    a. Prompt the user to enter the name of a product that a customer wants to order.\n",
    "  \n",
    "    b. Add the product name to the \"customer_orders\" set.\n",
    "    \n",
    "    c. Ask the user if they want to add another product (yes/no).\n",
    "    \n",
    "    d. Continue the loop until the user does not want to add another product.\n",
    "\n",
    "3. Instead of updating the inventory by subtracting 1 from the quantity of each product, only do it for  the products that were ordered (those in \"customer_orders\")."
   ]
  },
  {
   "cell_type": "code",
   "execution_count": 17,
   "id": "3e1484b7",
   "metadata": {},
   "outputs": [
    {
     "name": "stdout",
     "output_type": "stream",
     "text": [
      "The inventory is as follows: {'t-shirt': 7, 'mug': 8, 'hat': 9, 'book': 0, 'keychain': 7}\n"
     ]
    }
   ],
   "source": [
    "# 1. Look at your code from the lab data structures, and improve repeated code with loops.\n",
    "\n",
    "products = [\"t-shirt\", \"mug\", \"hat\", \"book\", \"keychain\"]\n",
    "inventory = {}\n",
    "\n",
    "for product in products:\n",
    "    while True:\n",
    "        try:\n",
    "            # Ask the user for the quantity of each product\n",
    "            quantity_products = int(input(f\"Enter the quantity for {product}: \"))\n",
    "            if quantity_products < 0:\n",
    "                print(\"Quantity cannot be negative. Please enter a valid number.\")\n",
    "                continue\n",
    "            inventory[product] = quantity_products \n",
    "            break\n",
    "        except ValueError:\n",
    "            print('Invalid input. Please enter an integer value. ')\n",
    "\n",
    "print(\"The inventory is as follows:\", inventory)"
   ]
  },
  {
   "cell_type": "code",
   "execution_count": 19,
   "id": "e5b29b43",
   "metadata": {},
   "outputs": [],
   "source": [
    "# 2. Instead of asking the user to input the name of three products that a customer wants to order, do the following:\n",
    "# a. Prompt the user to enter the name of a product that a customer wants to order.\n",
    "\n",
    "product_order = str(input(f\"Welcome, we have {products} in our assortment. Please enter the name of a product that you want to order:\"))"
   ]
  },
  {
   "cell_type": "code",
   "execution_count": null,
   "id": "2b5b9fbf",
   "metadata": {},
   "outputs": [
    {
     "name": "stdout",
     "output_type": "stream",
     "text": [
      "You have entered:  book\n"
     ]
    }
   ],
   "source": [
    "print(\"You have entered: \", product_order)"
   ]
  },
  {
   "cell_type": "code",
   "execution_count": 8,
   "id": "f85a21bc",
   "metadata": {},
   "outputs": [],
   "source": [
    "# b. Add the product name to the \"customer_orders\" set.\n",
    "customer_orders = set()\n",
    "customer_orders.add(product_order)"
   ]
  },
  {
   "cell_type": "code",
   "execution_count": 9,
   "id": "052cd0ad",
   "metadata": {},
   "outputs": [
    {
     "name": "stdout",
     "output_type": "stream",
     "text": [
      "customer_orders: {'book'}\n"
     ]
    }
   ],
   "source": [
    "print(\"customer_orders:\", customer_orders)"
   ]
  },
  {
   "cell_type": "code",
   "execution_count": 10,
   "id": "9e732ec9",
   "metadata": {},
   "outputs": [
    {
     "name": "stdout",
     "output_type": "stream",
     "text": [
      "Your orders are: {'cheese', 'book'}\n"
     ]
    }
   ],
   "source": [
    "#  c. Ask the user if they want to add another product (yes/no).\n",
    "if str(input(\"Do you want to add another product? (yes/no):\")) == \"yes\":  \n",
    "    product_order = str(input(f\"Please enter the name of the product that you want to order:\"))\n",
    "    customer_orders.add(product_order)\n",
    "    print(\"Your orders are:\", customer_orders)\n",
    "else:\n",
    "    print(\"Your orders are:\", customer_orders)"
   ]
  },
  {
   "cell_type": "code",
   "execution_count": 12,
   "id": "1a04d61d",
   "metadata": {},
   "outputs": [
    {
     "name": "stdout",
     "output_type": "stream",
     "text": [
      "Your order consist out of: {'cheese', 'book', 'T-shirt'}\n"
     ]
    }
   ],
   "source": [
    "# d. Continue the loop until the user does not want to add another product.\n",
    "if str(input(\"Do you want to add another product in your order? (yes/no):\")) == \"yes\":  \n",
    "    product_order = str(input(f\"Please enter the name of the product that you want to order:\"))\n",
    "    customer_orders.add(product_order)\n",
    "    print(\"Your order consist out of:\", customer_orders)\n",
    "else:\n",
    "    print(\"The products in your order are:\", customer_orders)"
   ]
  },
  {
   "cell_type": "code",
   "execution_count": null,
   "id": "45034be9",
   "metadata": {},
   "outputs": [],
   "source": [
    "# 3. Instead of updating the inventory by subtracting 1 from the quantity of each product, only do it for  the products that were ordered (those in \"customer_orders\")."
   ]
  }
 ],
 "metadata": {
  "kernelspec": {
   "display_name": "base",
   "language": "python",
   "name": "python3"
  },
  "language_info": {
   "codemirror_mode": {
    "name": "ipython",
    "version": 3
   },
   "file_extension": ".py",
   "mimetype": "text/x-python",
   "name": "python",
   "nbconvert_exporter": "python",
   "pygments_lexer": "ipython3",
   "version": "3.12.7"
  }
 },
 "nbformat": 4,
 "nbformat_minor": 5
}
